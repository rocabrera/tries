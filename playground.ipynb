{
 "cells": [
  {
   "cell_type": "code",
   "execution_count": 4,
   "id": "62f5b4f7-95f0-47ea-a0fb-f4b632af2638",
   "metadata": {},
   "outputs": [],
   "source": [
    "with open(\"data/test_data.txt\", \"r\") as f:\n",
    "    data = f.read().splitlines()"
   ]
  },
  {
   "cell_type": "code",
   "execution_count": 176,
   "id": "3295bda8-fede-4129-834f-8d0bdf0337b8",
   "metadata": {},
   "outputs": [],
   "source": [
    "a = {\"a\": 1, \"b\": 2}"
   ]
  },
  {
   "cell_type": "code",
   "execution_count": 179,
   "id": "9cd01106-58d0-4368-9e86-2f2d115a7432",
   "metadata": {},
   "outputs": [
    {
     "data": {
      "text/plain": [
       "{}"
      ]
     },
     "execution_count": 179,
     "metadata": {},
     "output_type": "execute_result"
    }
   ],
   "source": [
    "a.setdefault(\"c\", {})"
   ]
  },
  {
   "cell_type": "code",
   "execution_count": 180,
   "id": "abb13ed1-1ed8-4be7-a5f0-3c1f163ea46e",
   "metadata": {},
   "outputs": [
    {
     "data": {
      "text/plain": [
       "{'a': 1, 'b': 2, 'c': {}}"
      ]
     },
     "execution_count": 180,
     "metadata": {},
     "output_type": "execute_result"
    }
   ],
   "source": [
    "a"
   ]
  },
  {
   "cell_type": "code",
   "execution_count": 190,
   "id": "94528c5e-0fef-4893-811e-d156c5e5a6d6",
   "metadata": {},
   "outputs": [],
   "source": [
    "from collections import UserDict\n",
    "\n",
    "class WordNode(UserDict):\n",
    "    \"\"\"\n",
    "    Usado para indicar que finaliza uma palavra contida no dicionário (dataset). \n",
    "    \"\"\"\n",
    "    pass\n",
    "    \n",
    "\n",
    "class Trie:\n",
    "    \n",
    "    def __init__(self):\n",
    "        self.root = {}\n",
    "        \n",
    "    def insert(self, word: str):\n",
    "        \n",
    "        node = self.root\n",
    "        for char in word[:-1]:\n",
    "            value = node.get(char)   \n",
    "            if value is None:\n",
    "                next_node = {}\n",
    "                node.setdefault(char, next_node)\n",
    "                node = next_node\n",
    "            else:\n",
    "                node = value\n",
    "                \n",
    "        # Logic to identify node as a word\n",
    "        last_char = word[-1]\n",
    "        value = node.get(last_char)   \n",
    "        \n",
    "        if value is None:\n",
    "            node.setdefault(last_char, WordNode())\n",
    "        else:\n",
    "            node[last_char] = WordNode(node[last_char])\n",
    "                \n",
    "    def find(self, word: str):\n",
    "        \n",
    "        node = self.root\n",
    "        \n",
    "        matches = []\n",
    "        \n",
    "        for char in word:\n",
    "            \n",
    "            value = node.get(char)\n",
    "            \n",
    "            if value is None:\n",
    "                # self.infer_possible_paths()\n",
    "                return False\n",
    "            \n",
    "            else:\n",
    "                matches.append(char)\n",
    "                node = value\n",
    "                \n",
    "        if isinstance(node ,WordNode): return True \n",
    "        else: return False\n",
    "        \n",
    "    def __str__(self):\n",
    "        return str(self.root)\n",
    "    \n",
    "    def infer_possible_paths(self):\n",
    "        pass\n",
    "        "
   ]
  },
  {
   "cell_type": "code",
   "execution_count": 191,
   "id": "15078059-0e57-4335-b306-d31fd085c64f",
   "metadata": {},
   "outputs": [
    {
     "name": "stdout",
     "output_type": "stream",
     "text": [
      "{'t': {'e': {'s': {'t': {'t': {'e': {'s': {}}}}}}}}\n",
      "{'t': {'e': {'s': {'t': {'t': {'e': {'s': {}}}}}}}}\n",
      "{'t': {'e': {'s': {'t': {'t': {'e': {'s': {}}}}}}}}\n"
     ]
    }
   ],
   "source": [
    "trie = Trie()\n",
    "\n",
    "words = [\"testtes\", \"testte\", \"test\"]\n",
    "\n",
    "for word in words:\n",
    "    trie.insert(word)\n",
    "    print(trie)"
   ]
  },
  {
   "cell_type": "code",
   "execution_count": 194,
   "id": "aa8119f1-4b9c-4cdc-8d2f-9c3f7553c044",
   "metadata": {
    "tags": []
   },
   "outputs": [],
   "source": [
    "assert trie.find(\"test\")\n",
    "assert trie.find(\"testte\")\n",
    "assert trie.find(\"testtes\")\n",
    "# assert not trie.find(\"zootechn\")"
   ]
  },
  {
   "cell_type": "code",
   "execution_count": 204,
   "id": "56f0f807-c885-41da-9cb3-6e376568411a",
   "metadata": {},
   "outputs": [
    {
     "data": {
      "text/plain": [
       "True"
      ]
     },
     "execution_count": 204,
     "metadata": {},
     "output_type": "execute_result"
    }
   ],
   "source": [
    "trie.find(\"test\")"
   ]
  },
  {
   "cell_type": "code",
   "execution_count": 203,
   "id": "118c5c72-4cbf-469a-9402-f5ab55675aad",
   "metadata": {},
   "outputs": [
    {
     "data": {
      "text/plain": [
       "{'t': {'e': {'s': {}}}}"
      ]
     },
     "execution_count": 203,
     "metadata": {},
     "output_type": "execute_result"
    }
   ],
   "source": [
    "trie.root[\"t\"][\"e\"][\"s\"][\"t\"]"
   ]
  },
  {
   "cell_type": "code",
   "execution_count": 107,
   "id": "f7085d85-f14a-4092-8a29-b09fada39a71",
   "metadata": {
    "tags": []
   },
   "outputs": [
    {
     "data": {
      "text/plain": [
       "['zootaxy',\n",
       " 'zootaxonomist',\n",
       " 'zootechny',\n",
       " 'zootechnic',\n",
       " 'zootechnical',\n",
       " 'zootechnician',\n",
       " 'zootechnics',\n",
       " 'zooter',\n",
       " 'zoothecia',\n",
       " 'zoothecial',\n",
       " 'zoothecium',\n",
       " 'zootheism',\n",
       " 'zootheist',\n",
       " 'zootheistic',\n",
       " 'zootherapy',\n",
       " 'zoothome',\n",
       " 'zooty',\n",
       " 'zootic',\n",
       " 'zootype',\n",
       " 'zootypic',\n",
       " 'zootoca',\n",
       " 'zootomy',\n",
       " 'zootomic',\n",
       " 'zootomical',\n",
       " 'zootomically',\n",
       " 'zootomies',\n",
       " 'zootomist',\n",
       " 'zoototemism',\n",
       " 'zootoxin',\n",
       " 'zootrophy',\n",
       " 'zootrophic',\n",
       " 'zooxanthella',\n",
       " 'zooxanthellae',\n",
       " 'zooxanthin',\n",
       " 'zoozoo',\n",
       " 'zophophori',\n",
       " 'zophori',\n",
       " 'zophorus',\n",
       " 'zopilote',\n",
       " 'zoque',\n",
       " 'zoquean',\n",
       " 'zoraptera',\n",
       " 'zorgite',\n",
       " 'zori',\n",
       " 'zoril',\n",
       " 'zorilla',\n",
       " 'zorillas',\n",
       " 'zorille',\n",
       " 'zorilles',\n",
       " 'zorillinae',\n",
       " 'zorillo',\n",
       " 'zorillos',\n",
       " 'zorils',\n",
       " 'zoris',\n",
       " 'zoroaster',\n",
       " 'zoroastra',\n",
       " 'zoroastrian',\n",
       " 'zoroastrianism',\n",
       " 'zoroastrians',\n",
       " 'zoroastrism',\n",
       " 'zorotypus',\n",
       " 'zorrillo',\n",
       " 'zorro',\n",
       " 'zortzico',\n",
       " 'zosma',\n",
       " 'zoster',\n",
       " 'zostera',\n",
       " 'zosteraceae',\n",
       " 'zosteriform',\n",
       " 'zosteropinae',\n",
       " 'zosterops',\n",
       " 'zosters',\n",
       " 'zouave',\n",
       " 'zouaves',\n",
       " 'zounds',\n",
       " 'zowie',\n",
       " 'zs',\n",
       " 'zubeneschamali',\n",
       " 'zubr',\n",
       " 'zuccarino',\n",
       " 'zucchetti',\n",
       " 'zucchetto',\n",
       " 'zucchettos',\n",
       " 'zucchini',\n",
       " 'zucchinis',\n",
       " 'zucco',\n",
       " 'zuchetto',\n",
       " 'zudda',\n",
       " 'zuffolo',\n",
       " 'zufolo',\n",
       " 'zugtierlast',\n",
       " 'zugtierlaster',\n",
       " 'zugzwang',\n",
       " 'zuisin',\n",
       " 'zuleika',\n",
       " 'zulhijjah',\n",
       " 'zulinde',\n",
       " 'zulkadah',\n",
       " 'zulu',\n",
       " 'zuludom',\n",
       " 'zuluize',\n",
       " 'zulus',\n",
       " 'zumatic',\n",
       " 'zumbooruk',\n",
       " 'zuni',\n",
       " 'zunian',\n",
       " 'zunyite',\n",
       " 'zunis',\n",
       " 'zupanate',\n",
       " 'zurich',\n",
       " 'zurlite',\n",
       " 'zutugil',\n",
       " 'zuurveldt',\n",
       " 'zuza',\n",
       " 'zwanziger',\n",
       " 'zwieback',\n",
       " 'zwiebacks',\n",
       " 'zwieselite',\n",
       " 'zwinglian',\n",
       " 'zwinglianism',\n",
       " 'zwinglianist',\n",
       " 'zwitter',\n",
       " 'zwitterion',\n",
       " 'zwitterionic']"
      ]
     },
     "execution_count": 107,
     "metadata": {},
     "output_type": "execute_result"
    }
   ],
   "source": [
    "data"
   ]
  },
  {
   "cell_type": "code",
   "execution_count": 38,
   "id": "1c3cf9b1-3df6-4739-beb6-cc2be5e0cc4a",
   "metadata": {},
   "outputs": [
    {
     "data": {
      "text/plain": [
       "{'a': {'a': {'a': {'m': {'o': {'r': {}}, 'a': {'r': {}}}}}},\n",
       " 'l': {'i': {'m': {'a': {'o': {}}}}}}"
      ]
     },
     "execution_count": 38,
     "metadata": {},
     "output_type": "execute_result"
    }
   ],
   "source": [
    "trie.root"
   ]
  },
  {
   "cell_type": "code",
   "execution_count": 8,
   "id": "0b3bed74-05bc-4e87-bd64-7da6aa0bb0f0",
   "metadata": {},
   "outputs": [],
   "source": [
    "values = {\"a\":1, \"b\":2, \"c\":3}"
   ]
  },
  {
   "cell_type": "code",
   "execution_count": 11,
   "id": "23e03237-e75f-4b33-9159-9f2bd31b4d24",
   "metadata": {},
   "outputs": [],
   "source": [
    "test = values.get(\"d\")"
   ]
  },
  {
   "cell_type": "code",
   "execution_count": 12,
   "id": "b680dec0-4610-4df5-b6b9-07ef246135c5",
   "metadata": {},
   "outputs": [
    {
     "name": "stdout",
     "output_type": "stream",
     "text": [
      "None\n"
     ]
    }
   ],
   "source": [
    "print(test)"
   ]
  },
  {
   "cell_type": "code",
   "execution_count": 14,
   "id": "ec126c43-4ead-432d-94ee-a36e8e1680af",
   "metadata": {},
   "outputs": [],
   "source": [
    "test = {\"z\":{\"o\": {\"d\":None}},}"
   ]
  },
  {
   "cell_type": "code",
   "execution_count": null,
   "id": "dd55da31-0157-41f1-b355-63141e992389",
   "metadata": {},
   "outputs": [],
   "source": []
  }
 ],
 "metadata": {
  "kernelspec": {
   "display_name": "Python 3 (ipykernel)",
   "language": "python",
   "name": "python3"
  },
  "language_info": {
   "codemirror_mode": {
    "name": "ipython",
    "version": 3
   },
   "file_extension": ".py",
   "mimetype": "text/x-python",
   "name": "python",
   "nbconvert_exporter": "python",
   "pygments_lexer": "ipython3",
   "version": "3.9.9"
  }
 },
 "nbformat": 4,
 "nbformat_minor": 5
}
